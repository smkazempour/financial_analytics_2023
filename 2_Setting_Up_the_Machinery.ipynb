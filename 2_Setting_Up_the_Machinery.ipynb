{
 "cells": [
  {
   "cell_type": "markdown",
   "id": "c096361e",
   "metadata": {},
   "source": [
    "# 1. Accessing Class Material\n",
    "\n",
    "I will probably put the material on my github and ask the students to download it to their colab accounts. This is where I should tell them how to access the material."
   ]
  },
  {
   "cell_type": "markdown",
   "id": "87c1f4ca",
   "metadata": {},
   "source": [
    "# 2. Writing Code in Colab\n",
    "\n",
    "Introduce the coding cell and how one executes code in Colab."
   ]
  },
  {
   "cell_type": "markdown",
   "id": "a645d1ec",
   "metadata": {},
   "source": [
    "# 3. Comments and Markdown Cells\n",
    "\n",
    "Markdown cells can be used to make the code and its outputs presentable, which is why I chose this format to present the class material."
   ]
  },
  {
   "cell_type": "markdown",
   "id": "847d25a2",
   "metadata": {},
   "source": [
    "# 4. Other IDEs\n",
    "\n",
    "Discuss Jupyter Notebook, Spyder, PyCharm, VSCode, etc."
   ]
  },
  {
   "cell_type": "code",
   "execution_count": null,
   "id": "94384bfa",
   "metadata": {},
   "outputs": [],
   "source": []
  }
 ],
 "metadata": {
  "kernelspec": {
   "display_name": "Python 3 (ipykernel)",
   "language": "python",
   "name": "python3"
  },
  "language_info": {
   "codemirror_mode": {
    "name": "ipython",
    "version": 3
   },
   "file_extension": ".py",
   "mimetype": "text/x-python",
   "name": "python",
   "nbconvert_exporter": "python",
   "pygments_lexer": "ipython3",
   "version": "3.9.12"
  }
 },
 "nbformat": 4,
 "nbformat_minor": 5
}
