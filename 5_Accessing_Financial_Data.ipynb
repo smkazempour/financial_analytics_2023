{
 "cells": [
  {
   "cell_type": "markdown",
   "id": "1e42f7a2",
   "metadata": {},
   "source": [
    "## 1. Yahoo! Finance\n",
    "There are many data vendors providing users with access to firms' data. In this class, we will mainly rely on Yahoo! Finance. The Python package \"yfinance\" provides a convenient interface for downloading data from Yahoo! Finance. We begin by installing this package. "
   ]
  },
  {
   "cell_type": "code",
   "execution_count": null,
   "id": "343e2c65",
   "metadata": {},
   "outputs": [],
   "source": [
    "!pip install yfinance"
   ]
  },
  {
   "cell_type": "markdown",
   "id": "053a9871",
   "metadata": {},
   "source": [
    "As a general rule, if you usually work on your personal machine, you will only need to install each package once. On the other hand, Google Colab comes with a large number of packages pre-installed. However, if a package is not already installed, you might have to install it every time you start a new session. It should not take much time, though.\n",
    "\n",
    "Let us play around with the yfinance package a little. For the purpose of this illustration, we will focus on three companies: \n",
    "- Tesla Inc., whose ticker is TSLA;\n",
    "- Microsoft Inc., whose ticker is MSFT; and \n",
    "- Walmart Inc., whose ticker is WMT.\n",
    "\n",
    "As a first step, we need to import the yfinance package. The following command does that. Notice that in Python, you can use the keyword \"as\" to ascribe a shorthand notation to packages. I use this feature to avoid writing the package's full name everytime I call it. "
   ]
  },
  {
   "cell_type": "code",
   "execution_count": null,
   "id": "5657c909",
   "metadata": {},
   "outputs": [],
   "source": [
    "import yfinance as yf"
   ]
  },
  {
   "cell_type": "markdown",
   "id": "5e160229",
   "metadata": {},
   "source": [
    "Now we need to inform the yfinance interface that we will download data for the three firms above. We do so by invoking the \"Ticker\" module withing the yfinance package. Each time we run the \"Ticker\" command, it returns an object (the Ticker object) we can use to retrieve data for that ticker. I save each Ticker object in a variable named after the firm's actual ticker. "
   ]
  },
  {
   "cell_type": "code",
   "execution_count": null,
   "id": "f28d28f1",
   "metadata": {},
   "outputs": [],
   "source": [
    "tsla = yf.Ticker(\"TSLA\")\n",
    "msft = yf.Ticker(\"MSFT\")\n",
    "wmt = yf.Ticker(\"WMT\")"
   ]
  },
  {
   "cell_type": "markdown",
   "id": "5e700dd3",
   "metadata": {},
   "source": [
    "### 1.1. Historical Stock Prices\n",
    "Perhaps the most ubiquitous form of financial data is stock prices. We can retrieve a history of each firm's stock prices through the Ticker object's \"history\" function. The following command tells the Yahoo! Finance interface to retrieve the time-series of TSLA prices from Jan 1, 2015 to Dec 31, 2020."
   ]
  },
  {
   "cell_type": "code",
   "execution_count": null,
   "id": "14939315",
   "metadata": {},
   "outputs": [],
   "source": [
    "tsla_prices = tsla.history(start=\"2015-01-01\", end=\"2020-12-31\")\n",
    "tsla_prices.head()"
   ]
  },
  {
   "cell_type": "markdown",
   "id": "fb4f6c0a",
   "metadata": {},
   "source": [
    "**A note about stock prices:** Stock splits cause jumps in the stock price. When calculating returns, we should adjust prices in such a way that prices before and after the split are comparable. yfinance retrieves the adjusted prices by default. If you wish to access unadjusted prices, you can set *back_adjust=True*. In other words, the command should be *tsla_prices = tsla.history(start=\"2015-01-01\", end=\"2020-12-31\", back_adjust=True)*.\n",
    "\n",
    "### 1.2. Financial Statements\n",
    "Yahoo Finance gives you access to firms' financial statements as well. You can access a history of the firm's financial statements through the Ticker object's *get_balance_sheet* function. When generating the Ticker object, the yfinance package automatically retrieves the firm's most recent annual balance sheets and saves them in the *balance_sheet* property.\n"
   ]
  },
  {
   "cell_type": "code",
   "execution_count": null,
   "id": "814c3957",
   "metadata": {},
   "outputs": [],
   "source": [
    "msft.get_balance_sheet(freq=\"yearly\").head() # check out the quarterly option, too"
   ]
  },
  {
   "cell_type": "code",
   "execution_count": null,
   "id": "8824a568",
   "metadata": {},
   "outputs": [],
   "source": [
    "msft.balance_sheet.head()"
   ]
  },
  {
   "cell_type": "markdown",
   "id": "0b066d32",
   "metadata": {},
   "source": [
    "You can retrieve a firm's income and cashflow statements, too. The commands are straightforward."
   ]
  },
  {
   "cell_type": "code",
   "execution_count": null,
   "id": "b8ace583",
   "metadata": {},
   "outputs": [],
   "source": [
    "msft.get_income_stmt(freq='yearly').head()"
   ]
  },
  {
   "cell_type": "code",
   "execution_count": null,
   "id": "760fc9ec",
   "metadata": {},
   "outputs": [],
   "source": [
    "msft.get_cash_flow(freq='yearly').head()"
   ]
  },
  {
   "cell_type": "markdown",
   "id": "4c379865",
   "metadata": {},
   "source": [
    "### 1.3. Other Financial Data\n",
    "\n",
    "Yahoo Finance also provides option prices, news, and a variety of other data. We will not use these endpoints in this course. However, if you are interested, you can check the following commands. More information about the yfinance package is [here](https://github.com/ranaroussi/yfinance)."
   ]
  },
  {
   "cell_type": "code",
   "execution_count": null,
   "id": "1ca3b788",
   "metadata": {},
   "outputs": [],
   "source": [
    "wmt.option_chain('2023-06-30').calls.head() # wmt.option_chain('2023-06-30').puts is also available"
   ]
  },
  {
   "cell_type": "code",
   "execution_count": null,
   "id": "ab66ab5e",
   "metadata": {
    "scrolled": false
   },
   "outputs": [],
   "source": [
    "import pandas as pd\n",
    "pd.DataFrame.from_dict(wmt.news).head()"
   ]
  },
  {
   "cell_type": "markdown",
   "id": "13962ebb",
   "metadata": {},
   "source": [
    "## 2. Pandas DataReader\n",
    "\n",
    "Another great package for accessing financial and economic data is *pandas-datareader*. It gives you access to many useful datasets, including the following.\n",
    "- Stock prices from the US, Russia, and Korea\n",
    "- Federal Reserve Economic Data (FRED)\n",
    "- OECD statistics\n",
    "- EconDB\n",
    "- Kenneth French's website\n",
    "- World Bank\n",
    "\n",
    "*pandas-datareader* used to be a great one-stop-shop for all financial data. In the past few years, however, it has not been able to keep up with the rapid expansion of financial data. Nevertheless, it is still a great source. \n",
    "\n",
    "You can install this package via the following command. "
   ]
  },
  {
   "cell_type": "code",
   "execution_count": null,
   "id": "d446423b",
   "metadata": {},
   "outputs": [],
   "source": [
    "pip install pandas-datareader"
   ]
  },
  {
   "cell_type": "markdown",
   "id": "eb3346ed",
   "metadata": {},
   "source": [
    "Next, you can import the package and import data using the folowing commands."
   ]
  },
  {
   "cell_type": "code",
   "execution_count": null,
   "id": "686b67eb",
   "metadata": {},
   "outputs": [],
   "source": [
    "from pandas_datareader import data as pdr\n",
    "\n",
    "gdp = pdr.DataReader('GDP', 'fred', '2000-1-1', '2020-12-31')\n",
    "gdp"
   ]
  },
  {
   "cell_type": "markdown",
   "id": "c9f3af9e",
   "metadata": {},
   "source": [
    "*pandas-datareader* also implements multiple endpoints for accessing stock prices. Most of them, however, require a subscription, with Stooq and Yahoo Finance being the exceptions. If you decide to access Yahoo Finance through *pandas-datareader*, make sure to use the following code snippet to avoid a known bug in the package."
   ]
  },
  {
   "cell_type": "code",
   "execution_count": null,
   "id": "0c0a0579",
   "metadata": {},
   "outputs": [],
   "source": [
    "import pandas_datareader.data as pdr\n",
    "import yfinance as yf\n",
    "yf.pdr_override() # to get around the bug\n",
    "\n",
    "msft = pdr.get_data_yahoo(\"MSFT\", start=\"2020-1-1\", end=\"2022-12-31\")\n",
    "msft.head()"
   ]
  },
  {
   "cell_type": "markdown",
   "id": "55e7d09a",
   "metadata": {},
   "source": [
    "## 3. Other Data Sources\n",
    "\n",
    "There are many other data sources avaiable in Python. If you are interested, I encourage you to checkout the following.\n",
    "- Quandl / NASDAQ Data Link."
   ]
  },
  {
   "cell_type": "code",
   "execution_count": null,
   "id": "e3917a6e",
   "metadata": {},
   "outputs": [],
   "source": []
  }
 ],
 "metadata": {
  "kernelspec": {
   "display_name": "Python 3 (ipykernel)",
   "language": "python",
   "name": "python3"
  },
  "language_info": {
   "codemirror_mode": {
    "name": "ipython",
    "version": 3
   },
   "file_extension": ".py",
   "mimetype": "text/x-python",
   "name": "python",
   "nbconvert_exporter": "python",
   "pygments_lexer": "ipython3",
   "version": "3.9.12"
  }
 },
 "nbformat": 4,
 "nbformat_minor": 5
}
