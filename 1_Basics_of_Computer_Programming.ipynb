{
 "cells": [
  {
   "cell_type": "markdown",
   "id": "3094f7d9",
   "metadata": {},
   "source": [
    "# 1. Computer Architecture"
   ]
  },
  {
   "cell_type": "markdown",
   "id": "35f63681",
   "metadata": {},
   "source": [
    "## 1.1. Processor"
   ]
  },
  {
   "cell_type": "markdown",
   "id": "091c3418",
   "metadata": {},
   "source": [
    "## 1.2. Memory"
   ]
  },
  {
   "cell_type": "markdown",
   "id": "6294ea6b",
   "metadata": {},
   "source": [
    "## 1.3. Hard Drive"
   ]
  },
  {
   "cell_type": "markdown",
   "id": "9c947744",
   "metadata": {},
   "source": [
    "# 2. Coding Concepts"
   ]
  },
  {
   "cell_type": "markdown",
   "id": "99536a12",
   "metadata": {},
   "source": [
    "It would be good to use pseudo-codes in this section to introduce the main concepts. We will map these main concepts to their Python implementations later.\n",
    "\n",
    " variables, flow control, loops, functions, I/O, files, libraries, etc"
   ]
  },
  {
   "cell_type": "markdown",
   "id": "33c31cd7",
   "metadata": {},
   "source": [
    "## 2.1. Variables"
   ]
  },
  {
   "cell_type": "markdown",
   "id": "c69cf05f",
   "metadata": {},
   "source": [
    "## 2.2. Flow Controls"
   ]
  },
  {
   "cell_type": "markdown",
   "id": "ae8a388c",
   "metadata": {},
   "source": [
    "## 2.3. Loops"
   ]
  },
  {
   "cell_type": "markdown",
   "id": "f2dc6e54",
   "metadata": {},
   "source": [
    "## 2.4. Functions"
   ]
  },
  {
   "cell_type": "markdown",
   "id": "29e0c921",
   "metadata": {},
   "source": [
    "## 2.5. Input/Output Streams including Files"
   ]
  },
  {
   "cell_type": "markdown",
   "id": "d6314ed5",
   "metadata": {},
   "source": [
    "## 2.6. Libraries"
   ]
  }
 ],
 "metadata": {
  "kernelspec": {
   "display_name": "Python 3 (ipykernel)",
   "language": "python",
   "name": "python3"
  },
  "language_info": {
   "codemirror_mode": {
    "name": "ipython",
    "version": 3
   },
   "file_extension": ".py",
   "mimetype": "text/x-python",
   "name": "python",
   "nbconvert_exporter": "python",
   "pygments_lexer": "ipython3",
   "version": "3.9.12"
  }
 },
 "nbformat": 4,
 "nbformat_minor": 5
}
