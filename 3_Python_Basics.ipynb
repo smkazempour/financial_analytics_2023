{
 "cells": [
  {
   "cell_type": "markdown",
   "id": "05ecb951",
   "metadata": {},
   "source": [
    "# Python Basics\n",
    "\n",
    "This section covers basic programming tools in Python. Python is an extensive language with many commands and libraries. We will not cover all of them here. Instead, we focus on the most fundamental tools any programmer needs to know. Future sections introduce a variety of other tools to make coding easier. \n",
    "\n",
    "To make this lesson more interesting, let us use Python to analyze some statistics about the LSU Tigers' performance in 2022 season!\n",
    "\n",
    "## 1. Variables\n",
    "Let us start from the most basic coding task: We want to store a numerical value (e.g., how many game LSU Tigers played in 2022) in a variable so we can use it later. In Python, you can do so using the **assignment operator (=)**."
   ]
  },
  {
   "cell_type": "code",
   "execution_count": 13,
   "id": "d4d712da",
   "metadata": {},
   "outputs": [],
   "source": [
    "games_played = 14"
   ]
  },
  {
   "cell_type": "markdown",
   "id": "a94e74b2",
   "metadata": {},
   "source": [
    "By using the assignment operator, we tell the interpretor to create a variable, call it *games_played*, and store the integer number *14* in it. Let us check if our commna executed. To do so, we use the **print()** function to display the content of our new variable, *games_played*."
   ]
  },
  {
   "cell_type": "code",
   "execution_count": 14,
   "id": "6910ccc3",
   "metadata": {},
   "outputs": [
    {
     "name": "stdout",
     "output_type": "stream",
     "text": [
      "14\n"
     ]
    }
   ],
   "source": [
    "print(games_played)"
   ]
  },
  {
   "cell_type": "markdown",
   "id": "40f4d663",
   "metadata": {},
   "source": [
    "**A note regarding variable names:** You can choose variable names to be as simple or as sophisticated as you want. In the previous example, I could name the new variable *a*, *touchdownsscored*, or *dweioqeivbnpqceadfcoxqmew*. However, Python variables can only contain alpha-numeric characters as well as underscores, and they must not start with a number. Moreover, Python is a case-sensitive language, meaning its commands and variable names are sensitive to upper-case vs. lower-case spelling.\n",
    "\n",
    "To improve your code's readability, it is a good practice to use meaningful names for your variables. This practice makes life easier for others who would like to understand your code without necessarily executing it, including yourself in the future. Another good practice is using underscores to separate words in variable names, e.g. *touchdowns_scored* instead of *touchdownsscored*. "
   ]
  },
  {
   "cell_type": "markdown",
   "id": "d4ef87a3",
   "metadata": {},
   "source": [
    "### 1.1. Basic Data Types\n",
    "\n",
    "Let us look at some other interesting statistics and store them in variables."
   ]
  },
  {
   "cell_type": "code",
   "execution_count": 15,
   "id": "ff3342e4",
   "metadata": {},
   "outputs": [],
   "source": [
    "# integer\n",
    "points_scored = 485\n",
    "\n",
    "# floatin point\n",
    "points_per_game = 34.6\n",
    "yards_per_game = 269.3\n",
    "\n",
    "# boolean \n",
    "win_alabama = True\n",
    "win_georgia = False\n",
    "\n",
    "# strings\n",
    "team_slogan = \"Geaux Tigers!\"\n",
    "quarterback = \"Jayden Daniels\""
   ]
  },
  {
   "cell_type": "markdown",
   "id": "14532c27",
   "metadata": {},
   "source": [
    "Notice that the first two variables, *games_played* and *points_scored* are integers, while the next two are real numbers, or floating points in computer lingo. *win_alabama* and *win_georgia* are boolean variables. Booleans are logical variables whose values can only be True (often equivalent to 1 in numerical calculation) or False (equivalent to zero). They are often used for evaluating conditions, which we will discuss in the next section. Finally, the last two variables are strings, a variable type used for storing textual data. In Python, strings are enclosed between single-quotes ('') or double-quotes (\"\").\n",
    "\n",
    "In Python, integers, floats, booleans, and strings are the four fundamental data types that build everything else. The interpreter determines each variable's type based on the value assigned to it, repeating this process on every assignment. If you are unsure about avariable's type, you can use the command **type()** to check it. For example,"
   ]
  },
  {
   "cell_type": "code",
   "execution_count": 16,
   "id": "099ede07",
   "metadata": {},
   "outputs": [
    {
     "data": {
      "text/plain": [
       "int"
      ]
     },
     "execution_count": 16,
     "metadata": {},
     "output_type": "execute_result"
    }
   ],
   "source": [
    "type(points_scored)"
   ]
  },
  {
   "cell_type": "code",
   "execution_count": 17,
   "id": "18615982",
   "metadata": {},
   "outputs": [
    {
     "data": {
      "text/plain": [
       "float"
      ]
     },
     "execution_count": 17,
     "metadata": {},
     "output_type": "execute_result"
    }
   ],
   "source": [
    "type(points_per_game)"
   ]
  },
  {
   "cell_type": "code",
   "execution_count": 18,
   "id": "a1dcec5d",
   "metadata": {},
   "outputs": [
    {
     "data": {
      "text/plain": [
       "bool"
      ]
     },
     "execution_count": 18,
     "metadata": {},
     "output_type": "execute_result"
    }
   ],
   "source": [
    "type(win_alabama)"
   ]
  },
  {
   "cell_type": "code",
   "execution_count": 19,
   "id": "3cd20acf",
   "metadata": {},
   "outputs": [
    {
     "data": {
      "text/plain": [
       "str"
      ]
     },
     "execution_count": 19,
     "metadata": {},
     "output_type": "execute_result"
    }
   ],
   "source": [
    "type(team_slogan)"
   ]
  },
  {
   "cell_type": "markdown",
   "id": "f24871e4",
   "metadata": {},
   "source": [
    "### 1.2. Manipulating Variables Using Operators\n",
    "\n",
    "Variables have limited use unless we can modify and combine them. Such manipulations usually involve *operators*. For example, we can multiply *yards_per_game* and *games_played* to get the to get the total yards. This is done through the \\* operator."
   ]
  },
  {
   "cell_type": "code",
   "execution_count": 8,
   "id": "ea9ff424",
   "metadata": {},
   "outputs": [
    {
     "name": "stdout",
     "output_type": "stream",
     "text": [
      "3770.2000000000003\n"
     ]
    }
   ],
   "source": [
    "total_yards = yards_per_game*games_played\n",
    "print(total_yards)"
   ]
  },
  {
   "cell_type": "markdown",
   "id": "022ef887",
   "metadata": {},
   "source": [
    "Or we can subtract the number of games won from the total games played to get the number of losses for the 2022 season."
   ]
  },
  {
   "cell_type": "code",
   "execution_count": 9,
   "id": "db97a452",
   "metadata": {},
   "outputs": [
    {
     "name": "stdout",
     "output_type": "stream",
     "text": [
      "4\n"
     ]
    }
   ],
   "source": [
    "games_won = 10\n",
    "games_lost = games_played - games_won\n",
    "print(games_lost)"
   ]
  },
  {
   "cell_type": "markdown",
   "id": "47ed123b",
   "metadata": {},
   "source": [
    "We can also change the value of an already defined variable after doing some calculations. For example, if we discover that *points_per_game* is off by two points, we can fix it by running"
   ]
  },
  {
   "cell_type": "code",
   "execution_count": 10,
   "id": "6c42dc44",
   "metadata": {},
   "outputs": [
    {
     "name": "stdout",
     "output_type": "stream",
     "text": [
      "36.6\n"
     ]
    }
   ],
   "source": [
    "points_per_game = points_per_game + 2\n",
    "print(points_per_game)"
   ]
  },
  {
   "cell_type": "markdown",
   "id": "8bfae646",
   "metadata": {},
   "source": [
    "Python provides a multitude of other algebraic operators. The following is a list of them examples. Let x = 19 and y = 3.\n",
    "\n",
    "|Operator| Name | Example | Result |\n",
    "| :---:   | :--- | :---    | :---   |\n",
    "| +      | Addition   | x + y   | 21    |\n",
    "| -      | Subtraction| x - y  | 16     |\n",
    "| \\*      | Multiplication  | x\\*y | 57 |\n",
    "| /       | Division        | x/y  | 6.3333|\n",
    "| \\*\\*      | Exponentiation  | x\\*\\*3 | 6859 |\n",
    "| //        | Integer Division| x // y| 6 |\n",
    "| %         | Modulus         | x % y | 1 |\n",
    "\n",
    "The usual rules of precedence applies in Python. For example,"
   ]
  },
  {
   "cell_type": "code",
   "execution_count": 11,
   "id": "564ba151",
   "metadata": {},
   "outputs": [
    {
     "name": "stdout",
     "output_type": "stream",
     "text": [
      "79.5\n",
      "79.5\n",
      "126.0\n"
     ]
    }
   ],
   "source": [
    "print(12*6 + 15/2)\n",
    "print((12*6) + (15/2))\n",
    "print(12*(6+15)/2)"
   ]
  },
  {
   "cell_type": "markdown",
   "id": "837856a5",
   "metadata": {},
   "source": [
    "We can also compare two numbers. For example, let us run the following code."
   ]
  },
  {
   "cell_type": "code",
   "execution_count": 12,
   "id": "05422c25",
   "metadata": {},
   "outputs": [
    {
     "data": {
      "text/plain": [
       "True"
      ]
     },
     "execution_count": 12,
     "metadata": {},
     "output_type": "execute_result"
    }
   ],
   "source": [
    "alabama_points_scored = 534\n",
    "\n",
    "alabama_points_scored > points_scored"
   ]
  },
  {
   "cell_type": "markdown",
   "id": "b0f06548",
   "metadata": {},
   "source": [
    "The first statement creates a variable storing the number of points Alabama scored in 2022. The second line simply compares the two scores. Because Alabama scored more points, the comparison returns a True value."
   ]
  },
  {
   "cell_type": "markdown",
   "id": "c7b35ead",
   "metadata": {},
   "source": [
    "Logical operators can manipulate boolean variables and frequently appear in conditional statements. The following table lists the most important logical operators. We will see many examples of them in the next section and throughout the course. Let x = True, y = False.\n",
    "\n",
    "| Operator | Name | Example | Result |\n",
    "| :---:    | :--- | :---    | :---   |\n",
    "|and|And|x and y|False|\n",
    "|or|Or|x or y|True|\n",
    "|not|Not| not x|False|"
   ]
  },
  {
   "cell_type": "markdown",
   "id": "4b31bdd2-c22f-4c2b-a1f6-49880b8ac126",
   "metadata": {},
   "source": [
    "### 1.3. Basic Data Structures\n",
    "\n",
    "We can use "
   ]
  },
  {
   "cell_type": "markdown",
   "id": "2b53bf27",
   "metadata": {},
   "source": [
    "# 2. Flow Controls\n",
    "\n",
    "if/else statements, conditions"
   ]
  },
  {
   "cell_type": "markdown",
   "id": "168e26a3",
   "metadata": {},
   "source": [
    "# 3. Loops\n",
    "\n",
    "Mainly just for statements"
   ]
  },
  {
   "cell_type": "markdown",
   "id": "c9967980",
   "metadata": {},
   "source": [
    "# 4. Mixing Flow Controls and Loops to Get Complex Programs\n",
    "\n",
    "A few examples should suffice. This section intends to get the students to practise the last two concepts more."
   ]
  },
  {
   "cell_type": "markdown",
   "id": "a5f626fe",
   "metadata": {},
   "source": [
    "# 5. Functions\n",
    "\n",
    "Basic function structure and syntax."
   ]
  },
  {
   "cell_type": "markdown",
   "id": "e0c28eb9",
   "metadata": {},
   "source": [
    "Many programming languages use symbols--e.g. curly braces *{ }*-- or keywords --e.g., *begin* and *end*-- to determine the scope of each code block. Python, however, uses indentation. For example, in a for loop or if/else statement, all the commands with the same indentation will be executed. This feature is best explained with examples. "
   ]
  },
  {
   "cell_type": "code",
   "execution_count": 6,
   "id": "e96bbf41",
   "metadata": {},
   "outputs": [
    {
     "name": "stdout",
     "output_type": "stream",
     "text": [
      "Indented commands execute inside the loop. This is iteration number 1.\n",
      "Indented commands execute inside the loop. This is iteration number 2.\n",
      "Indented commands execute inside the loop. This is iteration number 3.\n",
      "Indented commands execute inside the loop. This is iteration number 4.\n",
      "Indented commands execute inside the loop. This is iteration number 5.\n",
      "No indentation means the command will only exceute after we exit the loop.\n"
     ]
    }
   ],
   "source": [
    "for i in range(5):\n",
    "    print(f\"Indented commands execute inside the loop. This is iteration number {i+1}.\")\n",
    "print(\"No indentation means the command will only exceute after we exit the loop.\")"
   ]
  },
  {
   "cell_type": "code",
   "execution_count": 9,
   "id": "ab021514",
   "metadata": {},
   "outputs": [
    {
     "name": "stdout",
     "output_type": "stream",
     "text": [
      "This statement will execute because the if condition does not hold.\n",
      "This statement will execute because 13 < 15.\n",
      "No indentation means this statement is outside of the if/else statement. So it should execute.\n"
     ]
    }
   ],
   "source": [
    "j = 13\n",
    "if j > 15:\n",
    "    print(\"This statement will not execute because the condition does not hold.\")\n",
    "else:\n",
    "    print(\"This statement will execute because the if condition does not hold.\")\n",
    "\n",
    "if j <= 15:\n",
    "    print(\"This statement will execute because 13 < 15.\")\n",
    "else:\n",
    "    print(\"If you see this message, mathematics has been broken and 13 > 15.\")\n",
    "print(\"No indentation means this statement is outside of the if/else statement. So it should execute.\")\n"
   ]
  },
  {
   "cell_type": "code",
   "execution_count": null,
   "id": "b17d3345",
   "metadata": {},
   "outputs": [],
   "source": []
  }
 ],
 "metadata": {
  "kernelspec": {
   "display_name": "Python 3 (ipykernel)",
   "language": "python",
   "name": "python3"
  },
  "language_info": {
   "codemirror_mode": {
    "name": "ipython",
    "version": 3
   },
   "file_extension": ".py",
   "mimetype": "text/x-python",
   "name": "python",
   "nbconvert_exporter": "python",
   "pygments_lexer": "ipython3",
   "version": "3.9.12"
  }
 },
 "nbformat": 4,
 "nbformat_minor": 5
}
